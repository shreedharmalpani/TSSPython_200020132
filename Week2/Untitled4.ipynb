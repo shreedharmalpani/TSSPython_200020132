{
 "cells": [
  {
   "cell_type": "code",
   "execution_count": 9,
   "id": "57c8b2df",
   "metadata": {},
   "outputs": [],
   "source": [
    "import numpy as np\n",
    "import pandas as pd\n",
    "import datetime\n",
    "import matplotlib.pyplot as plt\n",
    "import seaborn as sns\n",
    "\n",
    "T = 60\n",
    "P = 7\n",
    "M = 4\n",
    "R = 0.8\n",
    "F = 0.0005\n",
    "N=50"
   ]
  },
  {
   "cell_type": "code",
   "execution_count": 10,
   "id": "cca99cc3",
   "metadata": {},
   "outputs": [],
   "source": [
    "def GetData(file_name):\n",
    "    return pd.DataFrame(pd.read_csv(file_name, usecols= [1,2,3]))\n",
    "df= GetData('DATA.csv')"
   ]
  },
  {
   "cell_type": "code",
   "execution_count": 11,
   "id": "c976fb01",
   "metadata": {},
   "outputs": [],
   "source": [
    "def PartitionData(data):\n",
    "    date_to_index={}\n",
    "    i=0\n",
    "    while(i<87779):\n",
    "        date_to_index[str(data['datadate'][i])]= i\n",
    "        i+=30\n",
    "        \n",
    "    \n",
    "    \n",
    "    return np.array_split(data,2926),date_to_index"
   ]
  },
  {
   "cell_type": "code",
   "execution_count": 12,
   "id": "2c314e96",
   "metadata": {},
   "outputs": [],
   "source": [
    "def GetBalanced(prices, weights, balance):\n",
    "    \n",
    "    to_invest= balance*R\n",
    "    \n",
    "    tot= np.sum(weights)\n",
    "    weights= weights/tot\n",
    "    \n",
    "    return weights*to_invest"
   ]
  },
  {
   "cell_type": "code",
   "execution_count": 13,
   "id": "fa2062fd",
   "metadata": {},
   "outputs": [],
   "source": [
    "def GetMomentumBasedPriority(PartitionedDataFrameList, DateToIndex ,t):\n",
    "\n",
    "    today=str(t)\n",
    "    NdaysAgo = datetime.date(int(today[0:4]),int(today[4:6]),int(today[6:])) + datetime.timedelta(days = -N)\n",
    "    NdaysAgo_date= NdaysAgo.strftime(\"%Y\") + NdaysAgo.strftime(\"%m\") + NdaysAgo.strftime(\"%d\")\n",
    "    \n",
    "    if NdaysAgo_date not in DateToIndex:\n",
    "        \n",
    "        i=0\n",
    "        while True:\n",
    "            NdaysAgo = datetime.date(int(today[0:4]),int(today[4:6]),int(today[6:])) + datetime.timedelta(days = -N-i)\n",
    "            NdaysAgo_date= NdaysAgo.strftime(\"%Y\") + NdaysAgo.strftime(\"%m\") + NdaysAgo.strftime(\"%d\")\n",
    "            if NdaysAgo_date in DateToIndex:\n",
    "                break\n",
    "            else:\n",
    "                i+=1\n",
    "                \n",
    "    f=PartitionedDataFrameList\n",
    "    g=DateToIndex\n",
    "    diff= np.array([(f[int(g[today]/30)]['adjcp'][g[today]+j] - f[int(g[NdaysAgo_date]/30)]['adjcp'][g[NdaysAgo_date]+j]) for j in range(0,30)])\n",
    "    \n",
    "    total= np.array(f[int(g[today]/30)]['adjcp'])\n",
    "    \n",
    "    for i in range( g[NdaysAgo_date] , g[today] ,30 ):\n",
    "        \n",
    "        total += np.array(f[int(i/30)]['adjcp'])\n",
    "\n",
    "    momentum_mean= (diff * N)/total\n",
    "    return momentum_mean\n",
    "            \n",
    "            "
   ]
  },
  {
   "cell_type": "code",
   "execution_count": 14,
   "id": "1bfc52c8",
   "metadata": {},
   "outputs": [],
   "source": [
    "def Switch(firstStock, SecondStock, today ,PartitionedDataFrames,DateToIndex):\n",
    "     \n",
    "        mom= GetMomentumBasedPriority(PartitionedDataFrames, DateToIndex ,today)\n",
    "            \n",
    "        if( mom [firstStock] > mom[SecondStock]):\n",
    "            return mom[firstStock]\n",
    "        else:\n",
    "            return mom[SecondStock]"
   ]
  },
  {
   "cell_type": "code",
   "execution_count": 19,
   "id": "8425229a",
   "metadata": {},
   "outputs": [],
   "source": [
    "class PortFolio:\n",
    "    def __init__(self,balance):\n",
    "        self.balance = balance\n",
    "        self.shares = np.zeros(30)\n",
    "        self.prices = np.zeros(30)\n",
    "        self.pairs_list = []\n",
    "        for i in range(M):\n",
    "            self.pairs_list.append(tuple([-1.-1]))\n",
    "    #Initialize all variables\n",
    "\n",
    "    def SellStock(self,index):\n",
    "        #index : The index of the Stock to sell (0-29)\n",
    "        self.balance += self.shares[index]*self.prices[index]*(1-F)\n",
    "        self.shares[index] = 0\n",
    "        \n",
    "    \n",
    "  \n",
    "    def BuyStock(self,index,number):\n",
    "      \n",
    "        self.shares[index] += number\n",
    "        self.balance -= self.prices[index]*number*(1+F)\n",
    "        \n",
    "    def CalculateNetWorth(self):\n",
    "        net_worth = 0\n",
    "        for j in range(0,30):\n",
    "            net_worth += self.prices[j]*self.shares[j]\n",
    "        return net_worth + self.balance\n",
    "\n",
    "\n",
    "    def ChangePricesTo(self, newPriceVector):\n",
    "        for i in range(0,30):\n",
    "            self.prices[i] = newPriceVector[i]\n",
    "            \n",
    "    def ChangePairs(self,PartitionedDataFrames,DateToIndex,today):  \n",
    "    # Calls the Switch function for all the pairs of stocks owned\n",
    "    \n",
    "            for i in range(0,len(self.pairs_list)):\n",
    "                better_stock = Switch(self.pairs_list[i][0],self.pairs_list[i][1], today ,PartitionedDataFrames,DateToIndex)\n",
    "                if(self.shares[better_stock] != 0):\n",
    "                    pass\n",
    "                else:\n",
    "                    if(better_stock == self.pairs_list[i][0]):\n",
    "                        self.BuyStock(self.pairs_list[i][0],self.shares[self.pairs_list[i][1]])\n",
    "                        self.SellStock(self.pairs_list[i][1])\n",
    "                        \n",
    "                    else: \n",
    "                        self.BuyStock(self.pairs_list[i][1],self.shares[self.pairs_list[i][0]])\n",
    "                        self.SellStock(self.pairs_list[i][0])\n",
    "                        \n",
    "        \n",
    "  \n",
    "    def RebalancePortfolio(self,PartitionedDataFrames,DateToIndex,today):\n",
    "    \n",
    "        arr = np.zeros((30,T))\n",
    "        corr = np.ones((30,30))\n",
    "        arr2 = np.zeros(30)\n",
    "        for i in range(30):           \n",
    "            h = 0\n",
    "            for j in range(DateToIndex[int(today)]-T+1,DateToIndex[int(today)]+1):\n",
    "                arr[i][h] = PartitionedDataFrames[j].iloc[i]['adjcp']\n",
    "                h += 1\n",
    "        for i in range(30):\n",
    "            for j in range(i+1,30):\n",
    "                C = np.corrcoef(arr[i],arr[j]) \n",
    "                corr[i][j] = corr[j][i] = C[0][1] \n",
    "        \n",
    "        for i in range(30):\n",
    "            arr2[i] = corr[i].min()\n",
    "        arr2 = np.sort(arr2)[::-1]\n",
    "        while(len(arr2) != M):\n",
    "            arr2 = np.delete(arr2,len(arr2)-1)\n",
    "        for i in range(M):\n",
    "            x = np.where(corr == arr2[i])\n",
    "            self.pairs_list[i] = tuple([x[0][0],x[1][0]])\n",
    "        self.ChangePairs(PartitionedDataFrames,DateToIndex,today)"
   ]
  },
  {
   "cell_type": "code",
   "execution_count": 16,
   "id": "0300a823",
   "metadata": {},
   "outputs": [],
   "source": [
    "initbal = 500\n",
    "myPortfolio = PortFolio(initbal)\n",
    "NetWorthAfterEachTrade = []\n",
    "\n",
    "\n",
    "Data = GetData('DATA.csv')\n",
    "PartitionedData, DateToIndex= PartitionData(Data)\n",
    "for j in range(30):\n",
    "    myPortfolio.BuyStock(j,20)\n",
    "\n",
    "t = T\n",
    "for i in range(T+1,len(DateToIndex.keys())):\n",
    "    for j in range(30):\n",
    "        myPortfolio.recPric[j] = PartitionedData[i].iloc[j][2]\n",
    "    NetWorthAfterEachTrade.append(myPortfolio.CalculateNetWorth())\n",
    "    if(t != T):\n",
    "        t += 1\n",
    "        continue\n",
    "    else:\n",
    "        t = 0\n",
    "        if(myPortfolio.currBal < R*initbal):\n",
    "            continue\n",
    "    myPortfolio.RebalancePortfolio(PartitionedData, DateToIndex,list(DateToIndex.keys())[i]) "
   ]
  },
  {
   "cell_type": "code",
   "execution_count": 17,
   "id": "3b4685bf",
   "metadata": {},
   "outputs": [],
   "source": [
    "def VisualizeData(list,d1,d2):\n",
    "    \n",
    "    x=(np.array([i for i in range(d1,d2)])).T\n",
    "    plt.plot(x.T, list[d1:d2])\n",
    "    plt.xlabel('days')\n",
    "    plt.ylabel('networth')\n",
    "    plt.show()\n"
   ]
  },
  {
   "cell_type": "code",
   "execution_count": 18,
   "id": "ac5cd052",
   "metadata": {},
   "outputs": [
    {
     "data": {
      "image/png": "[encoded data removed]",
      "text/plain": [
       "<Figure size 432x288 with 1 Axes>"
      ]
     },
     "metadata": {
      "needs_background": "light"
     },
     "output_type": "display_data"
    }
   ],
   "source": [
    "VisualizeData(NetWorthAfterEachTrade,0,200)"
   ]
  },
  {
   "cell_type": "code",
   "execution_count": null,
   "id": "5a7f7ce4",
   "metadata": {},
   "outputs": [],
   "source": []
  },
  {
   "cell_type": "code",
   "execution_count": null,
   "id": "aeec029e",
   "metadata": {},
   "outputs": [],
   "source": []
  },
  {
   "cell_type": "code",
   "execution_count": null,
   "id": "d56dedfb",
   "metadata": {},
   "outputs": [],
   "source": []
  }
 ],
 "metadata": {
  "kernelspec": {
   "display_name": "Python 3",
   "language": "python",
   "name": "python3"
  },
  "language_info": {
   "codemirror_mode": {
    "name": "ipython",
    "version": 3
   },
   "file_extension": ".py",
   "mimetype": "text/x-python",
   "name": "python",
   "nbconvert_exporter": "python",
   "pygments_lexer": "ipython3",
   "version": "3.8.8"
  }
 },
 "nbformat": 4,
 "nbformat_minor": 5
}
