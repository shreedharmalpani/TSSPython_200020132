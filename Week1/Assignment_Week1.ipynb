{
 "cells": [
  {
   "cell_type": "code",
   "execution_count": 1,
   "id": "f504ff6f",
   "metadata": {},
   "outputs": [],
   "source": [
    "\n",
    "File = open(\"HarryPotterAndTheSorcerersStone.txt\",encoding= 'UTF-8') "
   ]
  },
  {
   "cell_type": "code",
   "execution_count": 2,
   "id": "9aaf3056",
   "metadata": {},
   "outputs": [],
   "source": [
    "DictionaryOfWords = {}         #Dictionary mapping every word to a list (of indices of the words' occurences)\n",
    "Novel = []                     #List of all words in the order, in which they appear!\n",
    "\n",
    "\n",
    "\n",
    "i = 0                   #Counter Variable to keep track of index of words\n",
    "\n",
    "for line in File.readlines():     #Iterate over all lines present in the text\n",
    " \n",
    "   line = line.replace(\".\",\"\").replace(\",\",\"\").replace('?','').replace('!','').replace('[','').replace(']','')\\\n",
    "    .replace('(','').replace(')','').replace('%','').replace('/','')\n",
    "   for word in line.split(' '):\n",
    "    \n",
    "     if word in DictionaryOfWords.keys():\n",
    "            DictionaryOfWords[word].append(i)\n",
    "    \n",
    "     else:\n",
    "            DictionaryOfWords[word]=[i]\n",
    "            \n",
    "            \n",
    "     Novel.append(word) \n",
    "     i+=1\n",
    "    \n"
   ]
  },
  {
   "cell_type": "code",
   "execution_count": 3,
   "id": "e37c95a7",
   "metadata": {},
   "outputs": [],
   "source": [
    "def GetQuery():\n",
    "   \n",
    "    word = input(\"Enter word:\")      #Get Input from the user regarding what word s/he wants to query for\n",
    "\n",
    "    Number = input(\"no. of results:\")      #Get Input from the user regarding how many results the user wants to see\n",
    "\n",
    "    return (word,Number)                 #Return as output a tuple of the word and the Number of results"
   ]
  },
  {
   "cell_type": "markdown",
   "id": "9fb812a4",
   "metadata": {},
   "source": []
  },
  {
   "cell_type": "code",
   "execution_count": 4,
   "id": "442c7d9f",
   "metadata": {},
   "outputs": [],
   "source": [
    "def PrintContext(index):\n",
    "    \n",
    "    global Novel                          #Declares the list Novel as a Global Variable\n",
    "    \n",
    "    #COMPLETE THE CODE FROM HERE:\n",
    "    \n",
    "    for i in range( index-5, index+6 ) :           #Define the range so that the task above is fulfilled\n",
    "        \n",
    "        print(Novel[i], end = ' ')          #Print the word (using List Indexing) with a space after that\n",
    "        \n",
    "    print('\\n')"
   ]
  },
  {
   "cell_type": "code",
   "execution_count": 5,
   "id": "b27b0b2e",
   "metadata": {},
   "outputs": [
    {
     "name": "stdout",
     "output_type": "stream",
     "text": [
      "\n",
      " “— yes their son Harry —”\n",
      " \n",
      " Mr Dursley stopped \n",
      "\n",
      "who had a son called Harry Come to think of it \n",
      "\n",
      "sure his nephew was called Harry He’d never even seen the \n",
      "\n",
      "the name of heaven did Harry survive”\n",
      " \n",
      " “We can only \n",
      "\n",
      "\n",
      " “I’ve come to bring Harry to his aunt and uncle \n",
      "\n",
      "the street screaming for sweets Harry Potter come and live here”\n",
      " \n",
      "\n"
     ]
    }
   ],
   "source": [
    "\n",
    "def PrintResult(word, NumQuery):\n",
    "  \n",
    "    global DictionaryOfWords                #Allows us to use the Dictionary as a global variable\n",
    "    \n",
    "    #COMPLETE THE CODE FROM HERE:\n",
    "    \n",
    "    L = DictionaryOfWords[word] \n",
    "    \n",
    "    for i in range(0,min(len(L),NumQuery)):\n",
    "        \n",
    "        PrintContext(L[i])  \n",
    "PrintResult('Harry',6)        "
   ]
  },
  {
   "cell_type": "code",
   "execution_count": 9,
   "id": "d9ee2771",
   "metadata": {
    "scrolled": true
   },
   "outputs": [
    {
     "name": "stdout",
     "output_type": "stream",
     "text": [
      "Press Y in order to Continue with the next query or N to end .Please press Enter after entering your choice!Y\n",
      "Enter word:the\n",
      "no. of results:5\n",
      "Dursleys shuddered to\n",
      " think what the neighbors would say if the \n",
      "\n",
      "the neighbors would say if the Potters arrived in the\n",
      " street \n",
      "\n",
      "street The Dursleys knew that the Potters had a small son \n",
      "\n",
      "another good reason\n",
      " for keeping the Potters away; they didn’t want \n",
      "\n",
      "Mrs Dursley woke up on the dull gray Tuesday\n",
      " our story \n",
      "\n",
      "Press Y in order to Continue with the next query or N to end .Please press Enter after entering your choice!N\n"
     ]
    }
   ],
   "source": [
    "while 1>0 :   \n",
    "    \n",
    "    Choice = input('Press Y in order to Continue with the next query or N to end .Please press Enter after entering your choice!')\n",
    "    \n",
    "    #COMPLETE THE CODE FROM HERE:\n",
    "    \n",
    "    if Choice== 'Y':                     # If the user wants to query \n",
    "        \n",
    "        a,b = GetQuery() #Use some of the past defined function to do so\n",
    "        \n",
    "        PrintResult(a, int(b))\n",
    "        \n",
    "    else:\n",
    "        \n",
    "        break    "
   ]
  }
 ],
 "metadata": {
  "kernelspec": {
   "display_name": "Python 3",
   "language": "python",
   "name": "python3"
  },
  "language_info": {
   "codemirror_mode": {
    "name": "ipython",
    "version": 3
   },
   "file_extension": ".py",
   "mimetype": "text/x-python",
   "name": "python",
   "nbconvert_exporter": "python",
   "pygments_lexer": "ipython3",
   "version": "3.8.8"
  }
 },
 "nbformat": 4,
 "nbformat_minor": 5
}
